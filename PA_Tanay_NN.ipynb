{
  "nbformat": 4,
  "nbformat_minor": 0,
  "metadata": {
    "colab": {
      "name": "PA_Tanay_NN",
      "provenance": []
    },
    "kernelspec": {
      "name": "python3",
      "display_name": "Python 3"
    },
    "language_info": {
      "name": "python"
    },
    "accelerator": "GPU"
  },
  "cells": [
    {
      "cell_type": "code",
      "execution_count": 2,
      "metadata": {
        "id": "10VKOwTLBRpP"
      },
      "outputs": [],
      "source": [
        "from sklearn.model_selection import train_test_split\n",
        "import matplotlib.pyplot as plt\n",
        "import numpy as np\n",
        "import pandas as pd\n",
        "import cv2\n",
        "import os\n",
        "from tqdm import tqdm\n",
        "import keras\n",
        "from keras.models import Sequential\n",
        "from keras.layers import Dense,Dropout\n",
        "from matplotlib import pyplot as plt\n",
        "import warnings\n",
        "warnings.filterwarnings('ignore')"
      ]
    },
    {
      "cell_type": "code",
      "source": [
        "from google.colab import drive\n",
        "drive.mount('/content/drive')"
      ],
      "metadata": {
        "colab": {
          "base_uri": "https://localhost:8080/"
        },
        "id": "sp5dT8y0Bzds",
        "outputId": "7d444a7d-c80f-4345-d013-b5d8d5a1abba"
      },
      "execution_count": 3,
      "outputs": [
        {
          "output_type": "stream",
          "name": "stdout",
          "text": [
            "Mounted at /content/drive\n"
          ]
        }
      ]
    },
    {
      "cell_type": "code",
      "source": [
        "from google.colab import files\n",
        "files.upload()"
      ],
      "metadata": {
        "id": "6xfHpEjSB2ub"
      },
      "execution_count": null,
      "outputs": []
    },
    {
      "cell_type": "code",
      "source": [
        "!mkdir ~/.kaggle\n",
        "!cp kaggle.json ~/.kaggle/\n",
        "!chmod 600 /root/.kaggle/kaggle.json\n",
        "\n",
        "!kaggle competitions download -c santander-customer-transaction-prediction"
      ],
      "metadata": {
        "colab": {
          "base_uri": "https://localhost:8080/"
        },
        "id": "c7rcgQjjB4-R",
        "outputId": "2fa4d6fd-ac82-47d3-bfea-308fe2a14064"
      },
      "execution_count": 5,
      "outputs": [
        {
          "output_type": "stream",
          "name": "stdout",
          "text": [
            "Downloading santander-customer-transaction-prediction.zip to /content\n",
            " 98% 244M/250M [00:01<00:00, 174MB/s]\n",
            "100% 250M/250M [00:01<00:00, 143MB/s]\n"
          ]
        }
      ]
    },
    {
      "cell_type": "code",
      "source": [
        "!unzip santander-customer-transaction-prediction"
      ],
      "metadata": {
        "colab": {
          "base_uri": "https://localhost:8080/"
        },
        "id": "RkyOvpZqB9XY",
        "outputId": "3eeb92c2-ff23-49a7-dcc1-4ae21f0d9481"
      },
      "execution_count": 6,
      "outputs": [
        {
          "output_type": "stream",
          "name": "stdout",
          "text": [
            "Archive:  santander-customer-transaction-prediction.zip\n",
            "  inflating: sample_submission.csv   \n",
            "  inflating: test.csv                \n",
            "  inflating: train.csv               \n"
          ]
        }
      ]
    },
    {
      "cell_type": "markdown",
      "source": [
        "\n",
        "## Load data and identify fake rows"
      ],
      "metadata": {
        "id": "C0qu-GEOCAqY"
      }
    },
    {
      "cell_type": "code",
      "source": [
        "train = pd.read_csv('train.csv')\n",
        "test = pd.read_csv('test.csv')"
      ],
      "metadata": {
        "id": "1PZvaEUjB-D2"
      },
      "execution_count": 7,
      "outputs": []
    },
    {
      "cell_type": "code",
      "source": [
        "# Generate new features to check if each value is unique within each original\n",
        "# column\n",
        "\n",
        "col_names = [f'var_{i}' for i in range(200)]\n",
        "for column in tqdm(col_names):\n",
        "  c = test[column].value_counts()\n",
        "  u = c.index[c == 1]\n",
        "  test[column + '_u'] = test[column].isin(u)"
      ],
      "metadata": {
        "id": "tlXGEUZ0CFhh",
        "colab": {
          "base_uri": "https://localhost:8080/"
        },
        "outputId": "31c23902-ba4f-472f-8b35-b65dac1b339f"
      },
      "execution_count": 8,
      "outputs": [
        {
          "output_type": "stream",
          "name": "stderr",
          "text": [
            "100%|██████████| 200/200 [00:03<00:00, 50.92it/s]\n"
          ]
        }
      ]
    },
    {
      "cell_type": "code",
      "source": [
        "# Add a column checking if at least one feature is unique for each row\n",
        "test['unique'] = test[[column + '_u' for column in col_names]].any(axis=1)"
      ],
      "metadata": {
        "id": "vFuGctvECIGO"
      },
      "execution_count": 9,
      "outputs": []
    },
    {
      "cell_type": "code",
      "source": [
        "# Separate out real test data and fake test data\n",
        "test_real = test.loc[test.unique, ['ID_code'] + col_names]\n",
        "test_fake = test.loc[~test.unique, ['ID_code'] + col_names]"
      ],
      "metadata": {
        "id": "AuqUIYYZCKJQ"
      },
      "execution_count": 10,
      "outputs": []
    },
    {
      "cell_type": "code",
      "source": [
        "# Combine all the 'real' data from the training and testing set so we can see if\n",
        "# there are any fakes once they're combined\n",
        "\n",
        "realTrTe = pd.concat([train, test_real], axis = 0)"
      ],
      "metadata": {
        "id": "T9fnCu5zCQ1u"
      },
      "execution_count": 11,
      "outputs": []
    },
    {
      "cell_type": "code",
      "source": [
        "# Generate another set of binary features to check if each value is unique \n",
        "# within each original feature column\n",
        "for column in tqdm(col_names):\n",
        "  c = realTrTe[column].value_counts()\n",
        "  u = c.index[c == 1]\n",
        "  realTrTe[column + '_unique'] = realTrTe[column].isin(u)*1\n",
        "  test_fake[column + '_unique'] = 0"
      ],
      "metadata": {
        "id": "5LLmYLvXCS46",
        "colab": {
          "base_uri": "https://localhost:8080/"
        },
        "outputId": "4b986872-bf94-4c9e-d7d8-77f126685e4f"
      },
      "execution_count": 12,
      "outputs": [
        {
          "output_type": "stream",
          "name": "stderr",
          "text": [
            "100%|██████████| 200/200 [00:08<00:00, 24.58it/s]\n"
          ]
        }
      ]
    },
    {
      "cell_type": "code",
      "source": [
        "# From the combined set, isolate the real test values\n",
        "test_real = realTrTe[realTrTe['ID_code'].str.contains('test')].copy()\n",
        "test_real.drop(['target'], axis=1, inplace=True)\n",
        "\n",
        "# Create a 'train' df with the new unique identifying features\n",
        "# Create a 'test' df, combining the real and fake testing features\n",
        "train = realTrTe[realTrTe['ID_code'].str.contains('train')].copy()\n",
        "test = pd.concat([test_real, test_fake], axis=0)"
      ],
      "metadata": {
        "id": "nq6crhilCW9B"
      },
      "execution_count": 13,
      "outputs": []
    },
    {
      "cell_type": "code",
      "source": [
        "# Split the training data into X and Y dataframes\n",
        "X = train.iloc[:, 2:]\n",
        "Y = train['target']\n",
        "\n",
        "# Create the testing dataset for prediction\n",
        "X_test = test.drop('ID_code', axis=1)"
      ],
      "metadata": {
        "id": "YV9hfc_CH69U"
      },
      "execution_count": 17,
      "outputs": []
    },
    {
      "cell_type": "markdown",
      "source": [
        "## Neural Network"
      ],
      "metadata": {
        "id": "e29sRmeOBnNE"
      }
    },
    {
      "cell_type": "code",
      "source": [
        "model = Sequential()\n",
        "model.add(Dense(25, input_dim=400, activation='relu'))\n",
        "model.add(Dropout(rate=0.2))\n",
        "model.add(Dense(30, activation='relu'))\n",
        "model.add(Dropout(rate=0.2))\n",
        "model.add(Dense(35, activation='relu'))\n",
        "model.add(Dropout(rate=0.2))\n",
        "model.add(Dense(40, activation='relu'))\n",
        "model.add(Dropout(rate=0.2))\n",
        "model.add(Dense(45, activation='relu'))\n",
        "model.add(Dropout(rate=0.2))\n",
        "model.add(Dense(50, activation='relu'))\n",
        "model.add(Dropout(rate=0.2))\n",
        "model.add(Dense(1, activation = 'sigmoid'))\n",
        "model.compile(loss='binary_crossentropy', optimizer='adam', metrics=['binary_accuracy'])\n",
        "\n",
        "result = model.fit(X, Y, epochs = 100, batch_size = 300)"
      ],
      "metadata": {
        "id": "hKGI7c8rBmhs",
        "colab": {
          "base_uri": "https://localhost:8080/"
        },
        "outputId": "e585ae82-19e5-4e62-e139-6460193f72b8"
      },
      "execution_count": 32,
      "outputs": [
        {
          "output_type": "stream",
          "name": "stdout",
          "text": [
            "Epoch 1/100\n",
            "667/667 [==============================] - 5s 5ms/step - loss: 0.3162 - binary_accuracy: 0.8988\n",
            "Epoch 2/100\n",
            "667/667 [==============================] - 4s 5ms/step - loss: 0.2786 - binary_accuracy: 0.8995\n",
            "Epoch 3/100\n",
            "667/667 [==============================] - 4s 5ms/step - loss: 0.2683 - binary_accuracy: 0.8995\n",
            "Epoch 4/100\n",
            "667/667 [==============================] - 4s 5ms/step - loss: 0.2638 - binary_accuracy: 0.9025\n",
            "Epoch 5/100\n",
            "667/667 [==============================] - 4s 5ms/step - loss: 0.2598 - binary_accuracy: 0.9034\n",
            "Epoch 6/100\n",
            "667/667 [==============================] - 4s 5ms/step - loss: 0.2576 - binary_accuracy: 0.9037\n",
            "Epoch 7/100\n",
            "667/667 [==============================] - 5s 7ms/step - loss: 0.2567 - binary_accuracy: 0.9048\n",
            "Epoch 8/100\n",
            "667/667 [==============================] - 4s 6ms/step - loss: 0.2558 - binary_accuracy: 0.9047\n",
            "Epoch 9/100\n",
            "667/667 [==============================] - 4s 5ms/step - loss: 0.2545 - binary_accuracy: 0.9059\n",
            "Epoch 10/100\n",
            "667/667 [==============================] - 4s 6ms/step - loss: 0.2538 - binary_accuracy: 0.9058\n",
            "Epoch 11/100\n",
            "667/667 [==============================] - 4s 5ms/step - loss: 0.2534 - binary_accuracy: 0.9063\n",
            "Epoch 12/100\n",
            "667/667 [==============================] - 4s 5ms/step - loss: 0.2519 - binary_accuracy: 0.9069\n",
            "Epoch 13/100\n",
            "667/667 [==============================] - 4s 5ms/step - loss: 0.2517 - binary_accuracy: 0.9066\n",
            "Epoch 14/100\n",
            "667/667 [==============================] - 4s 5ms/step - loss: 0.2525 - binary_accuracy: 0.9063\n",
            "Epoch 15/100\n",
            "667/667 [==============================] - 4s 5ms/step - loss: 0.2513 - binary_accuracy: 0.9065\n",
            "Epoch 16/100\n",
            "667/667 [==============================] - 4s 5ms/step - loss: 0.2525 - binary_accuracy: 0.9061\n",
            "Epoch 17/100\n",
            "667/667 [==============================] - 4s 5ms/step - loss: 0.2513 - binary_accuracy: 0.9066\n",
            "Epoch 18/100\n",
            "667/667 [==============================] - 4s 5ms/step - loss: 0.2510 - binary_accuracy: 0.9067\n",
            "Epoch 19/100\n",
            "667/667 [==============================] - 4s 6ms/step - loss: 0.2503 - binary_accuracy: 0.9066\n",
            "Epoch 20/100\n",
            "667/667 [==============================] - 4s 5ms/step - loss: 0.2508 - binary_accuracy: 0.9072\n",
            "Epoch 21/100\n",
            "667/667 [==============================] - 4s 5ms/step - loss: 0.2500 - binary_accuracy: 0.9068\n",
            "Epoch 22/100\n",
            "667/667 [==============================] - 4s 5ms/step - loss: 0.2499 - binary_accuracy: 0.9074\n",
            "Epoch 23/100\n",
            "667/667 [==============================] - 4s 5ms/step - loss: 0.2495 - binary_accuracy: 0.9072\n",
            "Epoch 24/100\n",
            "667/667 [==============================] - 4s 5ms/step - loss: 0.2498 - binary_accuracy: 0.9068\n",
            "Epoch 25/100\n",
            "667/667 [==============================] - 4s 5ms/step - loss: 0.2485 - binary_accuracy: 0.9073\n",
            "Epoch 26/100\n",
            "667/667 [==============================] - 4s 5ms/step - loss: 0.2484 - binary_accuracy: 0.9077\n",
            "Epoch 27/100\n",
            "667/667 [==============================] - 4s 6ms/step - loss: 0.2488 - binary_accuracy: 0.9074\n",
            "Epoch 28/100\n",
            "667/667 [==============================] - 4s 5ms/step - loss: 0.2488 - binary_accuracy: 0.9068\n",
            "Epoch 29/100\n",
            "667/667 [==============================] - 4s 6ms/step - loss: 0.2481 - binary_accuracy: 0.9080\n",
            "Epoch 30/100\n",
            "667/667 [==============================] - 4s 5ms/step - loss: 0.2480 - binary_accuracy: 0.9075\n",
            "Epoch 31/100\n",
            "667/667 [==============================] - 4s 6ms/step - loss: 0.2484 - binary_accuracy: 0.9075\n",
            "Epoch 32/100\n",
            "667/667 [==============================] - 4s 5ms/step - loss: 0.2480 - binary_accuracy: 0.9070\n",
            "Epoch 33/100\n",
            "667/667 [==============================] - 4s 6ms/step - loss: 0.2481 - binary_accuracy: 0.9073\n",
            "Epoch 34/100\n",
            "667/667 [==============================] - 4s 6ms/step - loss: 0.2487 - binary_accuracy: 0.9073\n",
            "Epoch 35/100\n",
            "667/667 [==============================] - 4s 6ms/step - loss: 0.2481 - binary_accuracy: 0.9074\n",
            "Epoch 36/100\n",
            "667/667 [==============================] - 4s 6ms/step - loss: 0.2480 - binary_accuracy: 0.9075\n",
            "Epoch 37/100\n",
            "667/667 [==============================] - 4s 6ms/step - loss: 0.2473 - binary_accuracy: 0.9078\n",
            "Epoch 38/100\n",
            "667/667 [==============================] - 4s 6ms/step - loss: 0.2476 - binary_accuracy: 0.9076\n",
            "Epoch 39/100\n",
            "667/667 [==============================] - 4s 6ms/step - loss: 0.2481 - binary_accuracy: 0.9074\n",
            "Epoch 40/100\n",
            "667/667 [==============================] - 4s 6ms/step - loss: 0.2473 - binary_accuracy: 0.9074\n",
            "Epoch 41/100\n",
            "667/667 [==============================] - 4s 6ms/step - loss: 0.2470 - binary_accuracy: 0.9075\n",
            "Epoch 42/100\n",
            "667/667 [==============================] - 4s 6ms/step - loss: 0.2474 - binary_accuracy: 0.9078\n",
            "Epoch 43/100\n",
            "667/667 [==============================] - 4s 6ms/step - loss: 0.2470 - binary_accuracy: 0.9074\n",
            "Epoch 44/100\n",
            "667/667 [==============================] - 4s 6ms/step - loss: 0.2472 - binary_accuracy: 0.9077\n",
            "Epoch 45/100\n",
            "667/667 [==============================] - 4s 6ms/step - loss: 0.2465 - binary_accuracy: 0.9082\n",
            "Epoch 46/100\n",
            "667/667 [==============================] - 4s 6ms/step - loss: 0.2467 - binary_accuracy: 0.9077\n",
            "Epoch 47/100\n",
            "667/667 [==============================] - 4s 6ms/step - loss: 0.2466 - binary_accuracy: 0.9076\n",
            "Epoch 48/100\n",
            "667/667 [==============================] - 4s 6ms/step - loss: 0.2471 - binary_accuracy: 0.9072\n",
            "Epoch 49/100\n",
            "667/667 [==============================] - 4s 6ms/step - loss: 0.2463 - binary_accuracy: 0.9080\n",
            "Epoch 50/100\n",
            "667/667 [==============================] - 4s 6ms/step - loss: 0.2474 - binary_accuracy: 0.9072\n",
            "Epoch 51/100\n",
            "667/667 [==============================] - 4s 6ms/step - loss: 0.2472 - binary_accuracy: 0.9072\n",
            "Epoch 52/100\n",
            "667/667 [==============================] - 4s 6ms/step - loss: 0.2461 - binary_accuracy: 0.9079\n",
            "Epoch 53/100\n",
            "667/667 [==============================] - 4s 6ms/step - loss: 0.2461 - binary_accuracy: 0.9075\n",
            "Epoch 54/100\n",
            "667/667 [==============================] - 4s 6ms/step - loss: 0.2459 - binary_accuracy: 0.9082\n",
            "Epoch 55/100\n",
            "667/667 [==============================] - 4s 6ms/step - loss: 0.2460 - binary_accuracy: 0.9082\n",
            "Epoch 56/100\n",
            "667/667 [==============================] - 4s 6ms/step - loss: 0.2456 - binary_accuracy: 0.9082\n",
            "Epoch 57/100\n",
            "667/667 [==============================] - 4s 6ms/step - loss: 0.2466 - binary_accuracy: 0.9082\n",
            "Epoch 58/100\n",
            "667/667 [==============================] - 4s 6ms/step - loss: 0.2462 - binary_accuracy: 0.9076\n",
            "Epoch 59/100\n",
            "667/667 [==============================] - 4s 6ms/step - loss: 0.2474 - binary_accuracy: 0.9060\n",
            "Epoch 60/100\n",
            "667/667 [==============================] - 4s 6ms/step - loss: 0.2466 - binary_accuracy: 0.9077\n",
            "Epoch 61/100\n",
            "667/667 [==============================] - 4s 6ms/step - loss: 0.2460 - binary_accuracy: 0.9079\n",
            "Epoch 62/100\n",
            "667/667 [==============================] - 4s 6ms/step - loss: 0.2461 - binary_accuracy: 0.9075\n",
            "Epoch 63/100\n",
            "667/667 [==============================] - 4s 6ms/step - loss: 0.2450 - binary_accuracy: 0.9087\n",
            "Epoch 64/100\n",
            "667/667 [==============================] - 4s 6ms/step - loss: 0.2458 - binary_accuracy: 0.9082\n",
            "Epoch 65/100\n",
            "667/667 [==============================] - 4s 6ms/step - loss: 0.2459 - binary_accuracy: 0.9076\n",
            "Epoch 66/100\n",
            "667/667 [==============================] - 4s 6ms/step - loss: 0.2451 - binary_accuracy: 0.9082\n",
            "Epoch 67/100\n",
            "667/667 [==============================] - 4s 6ms/step - loss: 0.2463 - binary_accuracy: 0.9078\n",
            "Epoch 68/100\n",
            "667/667 [==============================] - 4s 6ms/step - loss: 0.2452 - binary_accuracy: 0.9082\n",
            "Epoch 69/100\n",
            "667/667 [==============================] - 4s 6ms/step - loss: 0.2449 - binary_accuracy: 0.9084\n",
            "Epoch 70/100\n",
            "667/667 [==============================] - 4s 6ms/step - loss: 0.2456 - binary_accuracy: 0.9079\n",
            "Epoch 71/100\n",
            "667/667 [==============================] - 4s 6ms/step - loss: 0.2449 - binary_accuracy: 0.9081\n",
            "Epoch 72/100\n",
            "667/667 [==============================] - 4s 6ms/step - loss: 0.2455 - binary_accuracy: 0.9084\n",
            "Epoch 73/100\n",
            "667/667 [==============================] - 4s 6ms/step - loss: 0.2453 - binary_accuracy: 0.9078\n",
            "Epoch 74/100\n",
            "667/667 [==============================] - 4s 6ms/step - loss: 0.2456 - binary_accuracy: 0.9079\n",
            "Epoch 75/100\n",
            "667/667 [==============================] - 4s 6ms/step - loss: 0.2446 - binary_accuracy: 0.9081\n",
            "Epoch 76/100\n",
            "667/667 [==============================] - 4s 6ms/step - loss: 0.2445 - binary_accuracy: 0.9085\n",
            "Epoch 77/100\n",
            "667/667 [==============================] - 4s 6ms/step - loss: 0.2448 - binary_accuracy: 0.9082\n",
            "Epoch 78/100\n",
            "667/667 [==============================] - 4s 6ms/step - loss: 0.2475 - binary_accuracy: 0.9065\n",
            "Epoch 79/100\n",
            "667/667 [==============================] - 4s 6ms/step - loss: 0.2489 - binary_accuracy: 0.9049\n",
            "Epoch 80/100\n",
            "667/667 [==============================] - 4s 6ms/step - loss: 0.2486 - binary_accuracy: 0.9040\n",
            "Epoch 81/100\n",
            "667/667 [==============================] - 4s 6ms/step - loss: 0.2469 - binary_accuracy: 0.9063\n",
            "Epoch 82/100\n",
            "667/667 [==============================] - 4s 6ms/step - loss: 0.2452 - binary_accuracy: 0.9081\n",
            "Epoch 83/100\n",
            "667/667 [==============================] - 4s 6ms/step - loss: 0.2469 - binary_accuracy: 0.9074\n",
            "Epoch 84/100\n",
            "667/667 [==============================] - 4s 6ms/step - loss: 0.2448 - binary_accuracy: 0.9087\n",
            "Epoch 85/100\n",
            "667/667 [==============================] - 4s 6ms/step - loss: 0.2445 - binary_accuracy: 0.9081\n",
            "Epoch 86/100\n",
            "667/667 [==============================] - 4s 6ms/step - loss: 0.2448 - binary_accuracy: 0.9084\n",
            "Epoch 87/100\n",
            "667/667 [==============================] - 4s 6ms/step - loss: 0.2459 - binary_accuracy: 0.9076\n",
            "Epoch 88/100\n",
            "667/667 [==============================] - 4s 6ms/step - loss: 0.2459 - binary_accuracy: 0.9080\n",
            "Epoch 89/100\n",
            "667/667 [==============================] - 4s 6ms/step - loss: 0.2443 - binary_accuracy: 0.9086\n",
            "Epoch 90/100\n",
            "667/667 [==============================] - 4s 6ms/step - loss: 0.2446 - binary_accuracy: 0.9084\n",
            "Epoch 91/100\n",
            "667/667 [==============================] - 4s 6ms/step - loss: 0.2447 - binary_accuracy: 0.9081\n",
            "Epoch 92/100\n",
            "667/667 [==============================] - 4s 6ms/step - loss: 0.2447 - binary_accuracy: 0.9084\n",
            "Epoch 93/100\n",
            "667/667 [==============================] - 4s 6ms/step - loss: 0.2439 - binary_accuracy: 0.9086\n",
            "Epoch 94/100\n",
            "667/667 [==============================] - 4s 6ms/step - loss: 0.2448 - binary_accuracy: 0.9083\n",
            "Epoch 95/100\n",
            "667/667 [==============================] - 4s 6ms/step - loss: 0.2453 - binary_accuracy: 0.9082\n",
            "Epoch 96/100\n",
            "667/667 [==============================] - 4s 6ms/step - loss: 0.2453 - binary_accuracy: 0.9080\n",
            "Epoch 97/100\n",
            "667/667 [==============================] - 4s 6ms/step - loss: 0.2438 - binary_accuracy: 0.9085\n",
            "Epoch 98/100\n",
            "667/667 [==============================] - 4s 6ms/step - loss: 0.2449 - binary_accuracy: 0.9082\n",
            "Epoch 99/100\n",
            "667/667 [==============================] - 4s 6ms/step - loss: 0.2441 - binary_accuracy: 0.9087\n",
            "Epoch 100/100\n",
            "667/667 [==============================] - 4s 6ms/step - loss: 0.2449 - binary_accuracy: 0.9082\n"
          ]
        }
      ]
    },
    {
      "cell_type": "code",
      "source": [
        "y_pred = model.predict(X_test)"
      ],
      "metadata": {
        "id": "xLkoeW2Op3Py"
      },
      "execution_count": 33,
      "outputs": []
    },
    {
      "cell_type": "code",
      "source": [
        "y_pred"
      ],
      "metadata": {
        "colab": {
          "base_uri": "https://localhost:8080/"
        },
        "id": "u43d2p_hJr65",
        "outputId": "d8d8a5bf-0739-442d-db7b-596911d90488"
      },
      "execution_count": 34,
      "outputs": [
        {
          "output_type": "execute_result",
          "data": {
            "text/plain": [
              "array([[0.2967271 ],\n",
              "       [0.35955676],\n",
              "       [0.30522257],\n",
              "       ...,\n",
              "       [0.28561765],\n",
              "       [0.05705563],\n",
              "       [0.20149685]], dtype=float32)"
            ]
          },
          "metadata": {},
          "execution_count": 34
        }
      ]
    },
    {
      "cell_type": "code",
      "source": [
        "submission = pd.DataFrame({\"ID_code\": test.iloc[:,0]})\n",
        "submission[\"target\"] = y_pred\n",
        "submission.to_csv(\"submission.csv\", index=False)"
      ],
      "metadata": {
        "id": "IukLxRoOPf8V"
      },
      "execution_count": 35,
      "outputs": []
    },
    {
      "cell_type": "code",
      "source": [
        "submission.head(10)"
      ],
      "metadata": {
        "id": "qtFQ-HFRBss3",
        "colab": {
          "base_uri": "https://localhost:8080/",
          "height": 363
        },
        "outputId": "d8fd473f-08d5-4afc-fba5-93adbe18de76"
      },
      "execution_count": 36,
      "outputs": [
        {
          "output_type": "execute_result",
          "data": {
            "text/plain": [
              "    ID_code    target\n",
              "3    test_3  0.296727\n",
              "7    test_7  0.359557\n",
              "11  test_11  0.305223\n",
              "15  test_15  0.179507\n",
              "16  test_16  0.320603\n",
              "17  test_17  0.174949\n",
              "18  test_18  0.244391\n",
              "20  test_20  0.251166\n",
              "21  test_21  0.231034\n",
              "22  test_22  0.154505"
            ],
            "text/html": [
              "\n",
              "  <div id=\"df-5d742e79-8650-40d3-8a29-16dd98341642\">\n",
              "    <div class=\"colab-df-container\">\n",
              "      <div>\n",
              "<style scoped>\n",
              "    .dataframe tbody tr th:only-of-type {\n",
              "        vertical-align: middle;\n",
              "    }\n",
              "\n",
              "    .dataframe tbody tr th {\n",
              "        vertical-align: top;\n",
              "    }\n",
              "\n",
              "    .dataframe thead th {\n",
              "        text-align: right;\n",
              "    }\n",
              "</style>\n",
              "<table border=\"1\" class=\"dataframe\">\n",
              "  <thead>\n",
              "    <tr style=\"text-align: right;\">\n",
              "      <th></th>\n",
              "      <th>ID_code</th>\n",
              "      <th>target</th>\n",
              "    </tr>\n",
              "  </thead>\n",
              "  <tbody>\n",
              "    <tr>\n",
              "      <th>3</th>\n",
              "      <td>test_3</td>\n",
              "      <td>0.296727</td>\n",
              "    </tr>\n",
              "    <tr>\n",
              "      <th>7</th>\n",
              "      <td>test_7</td>\n",
              "      <td>0.359557</td>\n",
              "    </tr>\n",
              "    <tr>\n",
              "      <th>11</th>\n",
              "      <td>test_11</td>\n",
              "      <td>0.305223</td>\n",
              "    </tr>\n",
              "    <tr>\n",
              "      <th>15</th>\n",
              "      <td>test_15</td>\n",
              "      <td>0.179507</td>\n",
              "    </tr>\n",
              "    <tr>\n",
              "      <th>16</th>\n",
              "      <td>test_16</td>\n",
              "      <td>0.320603</td>\n",
              "    </tr>\n",
              "    <tr>\n",
              "      <th>17</th>\n",
              "      <td>test_17</td>\n",
              "      <td>0.174949</td>\n",
              "    </tr>\n",
              "    <tr>\n",
              "      <th>18</th>\n",
              "      <td>test_18</td>\n",
              "      <td>0.244391</td>\n",
              "    </tr>\n",
              "    <tr>\n",
              "      <th>20</th>\n",
              "      <td>test_20</td>\n",
              "      <td>0.251166</td>\n",
              "    </tr>\n",
              "    <tr>\n",
              "      <th>21</th>\n",
              "      <td>test_21</td>\n",
              "      <td>0.231034</td>\n",
              "    </tr>\n",
              "    <tr>\n",
              "      <th>22</th>\n",
              "      <td>test_22</td>\n",
              "      <td>0.154505</td>\n",
              "    </tr>\n",
              "  </tbody>\n",
              "</table>\n",
              "</div>\n",
              "      <button class=\"colab-df-convert\" onclick=\"convertToInteractive('df-5d742e79-8650-40d3-8a29-16dd98341642')\"\n",
              "              title=\"Convert this dataframe to an interactive table.\"\n",
              "              style=\"display:none;\">\n",
              "        \n",
              "  <svg xmlns=\"http://www.w3.org/2000/svg\" height=\"24px\"viewBox=\"0 0 24 24\"\n",
              "       width=\"24px\">\n",
              "    <path d=\"M0 0h24v24H0V0z\" fill=\"none\"/>\n",
              "    <path d=\"M18.56 5.44l.94 2.06.94-2.06 2.06-.94-2.06-.94-.94-2.06-.94 2.06-2.06.94zm-11 1L8.5 8.5l.94-2.06 2.06-.94-2.06-.94L8.5 2.5l-.94 2.06-2.06.94zm10 10l.94 2.06.94-2.06 2.06-.94-2.06-.94-.94-2.06-.94 2.06-2.06.94z\"/><path d=\"M17.41 7.96l-1.37-1.37c-.4-.4-.92-.59-1.43-.59-.52 0-1.04.2-1.43.59L10.3 9.45l-7.72 7.72c-.78.78-.78 2.05 0 2.83L4 21.41c.39.39.9.59 1.41.59.51 0 1.02-.2 1.41-.59l7.78-7.78 2.81-2.81c.8-.78.8-2.07 0-2.86zM5.41 20L4 18.59l7.72-7.72 1.47 1.35L5.41 20z\"/>\n",
              "  </svg>\n",
              "      </button>\n",
              "      \n",
              "  <style>\n",
              "    .colab-df-container {\n",
              "      display:flex;\n",
              "      flex-wrap:wrap;\n",
              "      gap: 12px;\n",
              "    }\n",
              "\n",
              "    .colab-df-convert {\n",
              "      background-color: #E8F0FE;\n",
              "      border: none;\n",
              "      border-radius: 50%;\n",
              "      cursor: pointer;\n",
              "      display: none;\n",
              "      fill: #1967D2;\n",
              "      height: 32px;\n",
              "      padding: 0 0 0 0;\n",
              "      width: 32px;\n",
              "    }\n",
              "\n",
              "    .colab-df-convert:hover {\n",
              "      background-color: #E2EBFA;\n",
              "      box-shadow: 0px 1px 2px rgba(60, 64, 67, 0.3), 0px 1px 3px 1px rgba(60, 64, 67, 0.15);\n",
              "      fill: #174EA6;\n",
              "    }\n",
              "\n",
              "    [theme=dark] .colab-df-convert {\n",
              "      background-color: #3B4455;\n",
              "      fill: #D2E3FC;\n",
              "    }\n",
              "\n",
              "    [theme=dark] .colab-df-convert:hover {\n",
              "      background-color: #434B5C;\n",
              "      box-shadow: 0px 1px 3px 1px rgba(0, 0, 0, 0.15);\n",
              "      filter: drop-shadow(0px 1px 2px rgba(0, 0, 0, 0.3));\n",
              "      fill: #FFFFFF;\n",
              "    }\n",
              "  </style>\n",
              "\n",
              "      <script>\n",
              "        const buttonEl =\n",
              "          document.querySelector('#df-5d742e79-8650-40d3-8a29-16dd98341642 button.colab-df-convert');\n",
              "        buttonEl.style.display =\n",
              "          google.colab.kernel.accessAllowed ? 'block' : 'none';\n",
              "\n",
              "        async function convertToInteractive(key) {\n",
              "          const element = document.querySelector('#df-5d742e79-8650-40d3-8a29-16dd98341642');\n",
              "          const dataTable =\n",
              "            await google.colab.kernel.invokeFunction('convertToInteractive',\n",
              "                                                     [key], {});\n",
              "          if (!dataTable) return;\n",
              "\n",
              "          const docLinkHtml = 'Like what you see? Visit the ' +\n",
              "            '<a target=\"_blank\" href=https://colab.research.google.com/notebooks/data_table.ipynb>data table notebook</a>'\n",
              "            + ' to learn more about interactive tables.';\n",
              "          element.innerHTML = '';\n",
              "          dataTable['output_type'] = 'display_data';\n",
              "          await google.colab.output.renderOutput(dataTable, element);\n",
              "          const docLink = document.createElement('div');\n",
              "          docLink.innerHTML = docLinkHtml;\n",
              "          element.appendChild(docLink);\n",
              "        }\n",
              "      </script>\n",
              "    </div>\n",
              "  </div>\n",
              "  "
            ]
          },
          "metadata": {},
          "execution_count": 36
        }
      ]
    },
    {
      "cell_type": "markdown",
      "source": [
        "![image.png](data:image/png;base64,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)"
      ],
      "metadata": {
        "id": "GwnYGoPYKogC"
      }
    },
    {
      "cell_type": "code",
      "source": [
        ""
      ],
      "metadata": {
        "id": "ZQu1nXAvzWtj"
      },
      "execution_count": null,
      "outputs": []
    }
  ]
}